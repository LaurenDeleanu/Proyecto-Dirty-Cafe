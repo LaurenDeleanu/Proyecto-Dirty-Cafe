{
 "cells": [
  {
   "cell_type": "markdown",
   "id": "ae7d3b60-b66f-4a76-baa5-02381a6bd466",
   "metadata": {},
   "source": [
    "# Proyecto Dirty cafe \n",
    "## limpieza de datos"
   ]
  },
  {
   "cell_type": "code",
   "execution_count": 2,
   "id": "1d6f76aa-1377-43ec-814c-a1a50985bfe0",
   "metadata": {},
   "outputs": [],
   "source": [
    "import pandas as pd\n",
    "import numpy as np\n",
    "import matplotlib.pyplot as plt\n",
    "import seaborn as sns"
   ]
  },
  {
   "cell_type": "code",
   "execution_count": 3,
   "id": "9b9dda84-6086-4326-b1e7-e71d18e4babe",
   "metadata": {},
   "outputs": [],
   "source": [
    "CafeSales = pd.read_csv(\"dirty_cafe_sales.csv\")\n"
   ]
  },
  {
   "cell_type": "markdown",
   "id": "53895ac9-ce49-4953-b864-bb12fce78fd0",
   "metadata": {},
   "source": [
    "### Cambiar formato de los objetos del DataFrame"
   ]
  },
  {
   "cell_type": "code",
   "execution_count": 5,
   "id": "6801c309-3ac3-479f-9372-a073d9d437fa",
   "metadata": {},
   "outputs": [
    {
     "data": {
      "text/plain": [
       "Transaction ID      object\n",
       "Item                object\n",
       "Quantity            object\n",
       "Price Per Unit      object\n",
       "Total Spent         object\n",
       "Payment Method      object\n",
       "Location            object\n",
       "Transaction Date    object\n",
       "dtype: object"
      ]
     },
     "execution_count": 5,
     "metadata": {},
     "output_type": "execute_result"
    }
   ],
   "source": [
    "CafeSales.dtypes"
   ]
  },
  {
   "cell_type": "code",
   "execution_count": 6,
   "id": "a0f97918-bab3-479f-8feb-b62fb4c39a91",
   "metadata": {},
   "outputs": [
    {
     "data": {
      "text/html": [
       "<div>\n",
       "<style scoped>\n",
       "    .dataframe tbody tr th:only-of-type {\n",
       "        vertical-align: middle;\n",
       "    }\n",
       "\n",
       "    .dataframe tbody tr th {\n",
       "        vertical-align: top;\n",
       "    }\n",
       "\n",
       "    .dataframe thead th {\n",
       "        text-align: right;\n",
       "    }\n",
       "</style>\n",
       "<table border=\"1\" class=\"dataframe\">\n",
       "  <thead>\n",
       "    <tr style=\"text-align: right;\">\n",
       "      <th></th>\n",
       "      <th>Transaction ID</th>\n",
       "      <th>Item</th>\n",
       "      <th>Quantity</th>\n",
       "      <th>Price Per Unit</th>\n",
       "      <th>Total Spent</th>\n",
       "      <th>Payment Method</th>\n",
       "      <th>Location</th>\n",
       "      <th>Transaction Date</th>\n",
       "    </tr>\n",
       "  </thead>\n",
       "  <tbody>\n",
       "    <tr>\n",
       "      <th>0</th>\n",
       "      <td>TXN_1961373</td>\n",
       "      <td>Coffee</td>\n",
       "      <td>2</td>\n",
       "      <td>2.0</td>\n",
       "      <td>4.0</td>\n",
       "      <td>Credit Card</td>\n",
       "      <td>Takeaway</td>\n",
       "      <td>2023-09-08</td>\n",
       "    </tr>\n",
       "    <tr>\n",
       "      <th>1</th>\n",
       "      <td>TXN_4977031</td>\n",
       "      <td>Cake</td>\n",
       "      <td>4</td>\n",
       "      <td>3.0</td>\n",
       "      <td>12.0</td>\n",
       "      <td>Cash</td>\n",
       "      <td>In-store</td>\n",
       "      <td>2023-05-16</td>\n",
       "    </tr>\n",
       "    <tr>\n",
       "      <th>2</th>\n",
       "      <td>TXN_4271903</td>\n",
       "      <td>Cookie</td>\n",
       "      <td>4</td>\n",
       "      <td>1.0</td>\n",
       "      <td>ERROR</td>\n",
       "      <td>Credit Card</td>\n",
       "      <td>In-store</td>\n",
       "      <td>2023-07-19</td>\n",
       "    </tr>\n",
       "    <tr>\n",
       "      <th>3</th>\n",
       "      <td>TXN_7034554</td>\n",
       "      <td>Salad</td>\n",
       "      <td>2</td>\n",
       "      <td>5.0</td>\n",
       "      <td>10.0</td>\n",
       "      <td>UNKNOWN</td>\n",
       "      <td>UNKNOWN</td>\n",
       "      <td>2023-04-27</td>\n",
       "    </tr>\n",
       "    <tr>\n",
       "      <th>4</th>\n",
       "      <td>TXN_3160411</td>\n",
       "      <td>Coffee</td>\n",
       "      <td>2</td>\n",
       "      <td>2.0</td>\n",
       "      <td>4.0</td>\n",
       "      <td>Digital Wallet</td>\n",
       "      <td>In-store</td>\n",
       "      <td>2023-06-11</td>\n",
       "    </tr>\n",
       "    <tr>\n",
       "      <th>...</th>\n",
       "      <td>...</td>\n",
       "      <td>...</td>\n",
       "      <td>...</td>\n",
       "      <td>...</td>\n",
       "      <td>...</td>\n",
       "      <td>...</td>\n",
       "      <td>...</td>\n",
       "      <td>...</td>\n",
       "    </tr>\n",
       "    <tr>\n",
       "      <th>9995</th>\n",
       "      <td>TXN_7672686</td>\n",
       "      <td>Coffee</td>\n",
       "      <td>2</td>\n",
       "      <td>2.0</td>\n",
       "      <td>4.0</td>\n",
       "      <td>NaN</td>\n",
       "      <td>UNKNOWN</td>\n",
       "      <td>2023-08-30</td>\n",
       "    </tr>\n",
       "    <tr>\n",
       "      <th>9996</th>\n",
       "      <td>TXN_9659401</td>\n",
       "      <td>NaN</td>\n",
       "      <td>3</td>\n",
       "      <td>NaN</td>\n",
       "      <td>3.0</td>\n",
       "      <td>Digital Wallet</td>\n",
       "      <td>NaN</td>\n",
       "      <td>2023-06-02</td>\n",
       "    </tr>\n",
       "    <tr>\n",
       "      <th>9997</th>\n",
       "      <td>TXN_5255387</td>\n",
       "      <td>Coffee</td>\n",
       "      <td>4</td>\n",
       "      <td>2.0</td>\n",
       "      <td>8.0</td>\n",
       "      <td>Digital Wallet</td>\n",
       "      <td>NaN</td>\n",
       "      <td>2023-03-02</td>\n",
       "    </tr>\n",
       "    <tr>\n",
       "      <th>9998</th>\n",
       "      <td>TXN_7695629</td>\n",
       "      <td>Cookie</td>\n",
       "      <td>3</td>\n",
       "      <td>NaN</td>\n",
       "      <td>3.0</td>\n",
       "      <td>Digital Wallet</td>\n",
       "      <td>NaN</td>\n",
       "      <td>2023-12-02</td>\n",
       "    </tr>\n",
       "    <tr>\n",
       "      <th>9999</th>\n",
       "      <td>TXN_6170729</td>\n",
       "      <td>Sandwich</td>\n",
       "      <td>3</td>\n",
       "      <td>4.0</td>\n",
       "      <td>12.0</td>\n",
       "      <td>Cash</td>\n",
       "      <td>In-store</td>\n",
       "      <td>2023-11-07</td>\n",
       "    </tr>\n",
       "  </tbody>\n",
       "</table>\n",
       "<p>10000 rows × 8 columns</p>\n",
       "</div>"
      ],
      "text/plain": [
       "     Transaction ID      Item Quantity Price Per Unit Total Spent  \\\n",
       "0       TXN_1961373    Coffee        2            2.0         4.0   \n",
       "1       TXN_4977031      Cake        4            3.0        12.0   \n",
       "2       TXN_4271903    Cookie        4            1.0       ERROR   \n",
       "3       TXN_7034554     Salad        2            5.0        10.0   \n",
       "4       TXN_3160411    Coffee        2            2.0         4.0   \n",
       "...             ...       ...      ...            ...         ...   \n",
       "9995    TXN_7672686    Coffee        2            2.0         4.0   \n",
       "9996    TXN_9659401       NaN        3            NaN         3.0   \n",
       "9997    TXN_5255387    Coffee        4            2.0         8.0   \n",
       "9998    TXN_7695629    Cookie        3            NaN         3.0   \n",
       "9999    TXN_6170729  Sandwich        3            4.0        12.0   \n",
       "\n",
       "      Payment Method  Location Transaction Date  \n",
       "0        Credit Card  Takeaway       2023-09-08  \n",
       "1               Cash  In-store       2023-05-16  \n",
       "2        Credit Card  In-store       2023-07-19  \n",
       "3            UNKNOWN   UNKNOWN       2023-04-27  \n",
       "4     Digital Wallet  In-store       2023-06-11  \n",
       "...              ...       ...              ...  \n",
       "9995             NaN   UNKNOWN       2023-08-30  \n",
       "9996  Digital Wallet       NaN       2023-06-02  \n",
       "9997  Digital Wallet       NaN       2023-03-02  \n",
       "9998  Digital Wallet       NaN       2023-12-02  \n",
       "9999            Cash  In-store       2023-11-07  \n",
       "\n",
       "[10000 rows x 8 columns]"
      ]
     },
     "execution_count": 6,
     "metadata": {},
     "output_type": "execute_result"
    }
   ],
   "source": [
    "CafeSales"
   ]
  },
  {
   "cell_type": "code",
   "execution_count": 7,
   "id": "7eaee1a2-8ebb-4981-9b27-17d9082f84ce",
   "metadata": {},
   "outputs": [],
   "source": [
    "CafeSales[\"Quantity\"] = pd.to_numeric(CafeSales[\"Quantity\"], errors=\"coerce\").fillna(0).astype(int)\n",
    "CafeSales[\"Price Per Unit\"] = pd.to_numeric(CafeSales[\"Price Per Unit\"], errors=\"coerce\").fillna(0).astype(float)\n",
    "CafeSales[\"Total Spent\"] = pd.to_numeric(CafeSales[\"Total Spent\"], errors=\"coerce\").fillna(0).astype(float)\n",
    "\n",
    "\n"
   ]
  },
  {
   "cell_type": "code",
   "execution_count": 8,
   "id": "ccdfef25-752f-47b7-a314-be5eda9810fa",
   "metadata": {},
   "outputs": [],
   "source": [
    "CafeSales[\"Transaction Date\"] = pd.to_datetime(CafeSales[\"Transaction Date\"], errors=\"coerce\", format = \"%Y-%m-%d\")"
   ]
  },
  {
   "cell_type": "code",
   "execution_count": 9,
   "id": "5693e2fc-2c13-469b-8df5-b758540a61b3",
   "metadata": {},
   "outputs": [
    {
     "data": {
      "text/plain": [
       "Transaction ID              object\n",
       "Item                        object\n",
       "Quantity                     int32\n",
       "Price Per Unit             float64\n",
       "Total Spent                float64\n",
       "Payment Method              object\n",
       "Location                    object\n",
       "Transaction Date    datetime64[ns]\n",
       "dtype: object"
      ]
     },
     "execution_count": 9,
     "metadata": {},
     "output_type": "execute_result"
    }
   ],
   "source": [
    "CafeSales.dtypes"
   ]
  },
  {
   "cell_type": "code",
   "execution_count": 10,
   "id": "aa0e8824-cbad-4f20-b2ea-dc4b9bcedc89",
   "metadata": {},
   "outputs": [
    {
     "data": {
      "text/html": [
       "<div>\n",
       "<style scoped>\n",
       "    .dataframe tbody tr th:only-of-type {\n",
       "        vertical-align: middle;\n",
       "    }\n",
       "\n",
       "    .dataframe tbody tr th {\n",
       "        vertical-align: top;\n",
       "    }\n",
       "\n",
       "    .dataframe thead th {\n",
       "        text-align: right;\n",
       "    }\n",
       "</style>\n",
       "<table border=\"1\" class=\"dataframe\">\n",
       "  <thead>\n",
       "    <tr style=\"text-align: right;\">\n",
       "      <th></th>\n",
       "      <th>Transaction ID</th>\n",
       "      <th>Item</th>\n",
       "      <th>Quantity</th>\n",
       "      <th>Price Per Unit</th>\n",
       "      <th>Total Spent</th>\n",
       "      <th>Payment Method</th>\n",
       "      <th>Location</th>\n",
       "      <th>Transaction Date</th>\n",
       "    </tr>\n",
       "  </thead>\n",
       "  <tbody>\n",
       "    <tr>\n",
       "      <th>0</th>\n",
       "      <td>TXN_1961373</td>\n",
       "      <td>Coffee</td>\n",
       "      <td>2</td>\n",
       "      <td>2.0</td>\n",
       "      <td>4.0</td>\n",
       "      <td>Credit Card</td>\n",
       "      <td>Takeaway</td>\n",
       "      <td>2023-09-08</td>\n",
       "    </tr>\n",
       "    <tr>\n",
       "      <th>1</th>\n",
       "      <td>TXN_4977031</td>\n",
       "      <td>Cake</td>\n",
       "      <td>4</td>\n",
       "      <td>3.0</td>\n",
       "      <td>12.0</td>\n",
       "      <td>Cash</td>\n",
       "      <td>In-store</td>\n",
       "      <td>2023-05-16</td>\n",
       "    </tr>\n",
       "    <tr>\n",
       "      <th>2</th>\n",
       "      <td>TXN_4271903</td>\n",
       "      <td>Cookie</td>\n",
       "      <td>4</td>\n",
       "      <td>1.0</td>\n",
       "      <td>0.0</td>\n",
       "      <td>Credit Card</td>\n",
       "      <td>In-store</td>\n",
       "      <td>2023-07-19</td>\n",
       "    </tr>\n",
       "    <tr>\n",
       "      <th>3</th>\n",
       "      <td>TXN_7034554</td>\n",
       "      <td>Salad</td>\n",
       "      <td>2</td>\n",
       "      <td>5.0</td>\n",
       "      <td>10.0</td>\n",
       "      <td>UNKNOWN</td>\n",
       "      <td>UNKNOWN</td>\n",
       "      <td>2023-04-27</td>\n",
       "    </tr>\n",
       "    <tr>\n",
       "      <th>4</th>\n",
       "      <td>TXN_3160411</td>\n",
       "      <td>Coffee</td>\n",
       "      <td>2</td>\n",
       "      <td>2.0</td>\n",
       "      <td>4.0</td>\n",
       "      <td>Digital Wallet</td>\n",
       "      <td>In-store</td>\n",
       "      <td>2023-06-11</td>\n",
       "    </tr>\n",
       "    <tr>\n",
       "      <th>...</th>\n",
       "      <td>...</td>\n",
       "      <td>...</td>\n",
       "      <td>...</td>\n",
       "      <td>...</td>\n",
       "      <td>...</td>\n",
       "      <td>...</td>\n",
       "      <td>...</td>\n",
       "      <td>...</td>\n",
       "    </tr>\n",
       "    <tr>\n",
       "      <th>9995</th>\n",
       "      <td>TXN_7672686</td>\n",
       "      <td>Coffee</td>\n",
       "      <td>2</td>\n",
       "      <td>2.0</td>\n",
       "      <td>4.0</td>\n",
       "      <td>NaN</td>\n",
       "      <td>UNKNOWN</td>\n",
       "      <td>2023-08-30</td>\n",
       "    </tr>\n",
       "    <tr>\n",
       "      <th>9996</th>\n",
       "      <td>TXN_9659401</td>\n",
       "      <td>NaN</td>\n",
       "      <td>3</td>\n",
       "      <td>0.0</td>\n",
       "      <td>3.0</td>\n",
       "      <td>Digital Wallet</td>\n",
       "      <td>NaN</td>\n",
       "      <td>2023-06-02</td>\n",
       "    </tr>\n",
       "    <tr>\n",
       "      <th>9997</th>\n",
       "      <td>TXN_5255387</td>\n",
       "      <td>Coffee</td>\n",
       "      <td>4</td>\n",
       "      <td>2.0</td>\n",
       "      <td>8.0</td>\n",
       "      <td>Digital Wallet</td>\n",
       "      <td>NaN</td>\n",
       "      <td>2023-03-02</td>\n",
       "    </tr>\n",
       "    <tr>\n",
       "      <th>9998</th>\n",
       "      <td>TXN_7695629</td>\n",
       "      <td>Cookie</td>\n",
       "      <td>3</td>\n",
       "      <td>0.0</td>\n",
       "      <td>3.0</td>\n",
       "      <td>Digital Wallet</td>\n",
       "      <td>NaN</td>\n",
       "      <td>2023-12-02</td>\n",
       "    </tr>\n",
       "    <tr>\n",
       "      <th>9999</th>\n",
       "      <td>TXN_6170729</td>\n",
       "      <td>Sandwich</td>\n",
       "      <td>3</td>\n",
       "      <td>4.0</td>\n",
       "      <td>12.0</td>\n",
       "      <td>Cash</td>\n",
       "      <td>In-store</td>\n",
       "      <td>2023-11-07</td>\n",
       "    </tr>\n",
       "  </tbody>\n",
       "</table>\n",
       "<p>10000 rows × 8 columns</p>\n",
       "</div>"
      ],
      "text/plain": [
       "     Transaction ID      Item  Quantity  Price Per Unit  Total Spent  \\\n",
       "0       TXN_1961373    Coffee         2             2.0          4.0   \n",
       "1       TXN_4977031      Cake         4             3.0         12.0   \n",
       "2       TXN_4271903    Cookie         4             1.0          0.0   \n",
       "3       TXN_7034554     Salad         2             5.0         10.0   \n",
       "4       TXN_3160411    Coffee         2             2.0          4.0   \n",
       "...             ...       ...       ...             ...          ...   \n",
       "9995    TXN_7672686    Coffee         2             2.0          4.0   \n",
       "9996    TXN_9659401       NaN         3             0.0          3.0   \n",
       "9997    TXN_5255387    Coffee         4             2.0          8.0   \n",
       "9998    TXN_7695629    Cookie         3             0.0          3.0   \n",
       "9999    TXN_6170729  Sandwich         3             4.0         12.0   \n",
       "\n",
       "      Payment Method  Location Transaction Date  \n",
       "0        Credit Card  Takeaway       2023-09-08  \n",
       "1               Cash  In-store       2023-05-16  \n",
       "2        Credit Card  In-store       2023-07-19  \n",
       "3            UNKNOWN   UNKNOWN       2023-04-27  \n",
       "4     Digital Wallet  In-store       2023-06-11  \n",
       "...              ...       ...              ...  \n",
       "9995             NaN   UNKNOWN       2023-08-30  \n",
       "9996  Digital Wallet       NaN       2023-06-02  \n",
       "9997  Digital Wallet       NaN       2023-03-02  \n",
       "9998  Digital Wallet       NaN       2023-12-02  \n",
       "9999            Cash  In-store       2023-11-07  \n",
       "\n",
       "[10000 rows x 8 columns]"
      ]
     },
     "execution_count": 10,
     "metadata": {},
     "output_type": "execute_result"
    }
   ],
   "source": [
    "CafeSales"
   ]
  },
  {
   "cell_type": "markdown",
   "id": "1d2d0896-9383-4561-9e1c-6dfbd6f22a6d",
   "metadata": {},
   "source": [
    "### Completar Valores Nulos"
   ]
  },
  {
   "cell_type": "markdown",
   "id": "be57cfcb-eedb-4c8c-a60f-ade2bd09f113",
   "metadata": {},
   "source": [
    "#### Valores str"
   ]
  },
  {
   "cell_type": "code",
   "execution_count": 13,
   "id": "5455b175-62c8-41b0-8208-c6d88dad5088",
   "metadata": {},
   "outputs": [
    {
     "data": {
      "text/plain": [
       "array(['Takeaway', 'In-store', 'UNKNOWN', nan, 'ERROR'], dtype=object)"
      ]
     },
     "execution_count": 13,
     "metadata": {},
     "output_type": "execute_result"
    }
   ],
   "source": [
    "CafeSales[\"Location\"].unique()"
   ]
  },
  {
   "cell_type": "code",
   "execution_count": 14,
   "id": "8a34bc1d-1f6b-45bf-91c0-181a1b757420",
   "metadata": {},
   "outputs": [],
   "source": [
    "CafeSales[\"Item\"] = CafeSales[\"Item\"].replace([\"UNKNOWN\", \"nan\", \"ERROR\"], np.nan)"
   ]
  },
  {
   "cell_type": "code",
   "execution_count": 15,
   "id": "37d7cdba-9a86-471c-888e-68172ea47ccb",
   "metadata": {},
   "outputs": [],
   "source": [
    "moda = CafeSales[\"Item\"].mode()[0]\n",
    "CafeSales[\"Item\"] = CafeSales[\"Item\"].fillna(moda)"
   ]
  },
  {
   "cell_type": "code",
   "execution_count": 16,
   "id": "5ba3f07a-16b5-4382-b58b-769b846780fd",
   "metadata": {},
   "outputs": [],
   "source": [
    "CafeSales[\"Payment Method\"] = CafeSales[\"Payment Method\"].replace([\"UNKNOWN\", \"nan\", \"ERROR\"], np.nan)"
   ]
  },
  {
   "cell_type": "code",
   "execution_count": 17,
   "id": "33aa07b8-15ba-40f2-b944-98521e86699e",
   "metadata": {},
   "outputs": [],
   "source": [
    "moda1 = CafeSales[\"Payment Method\"].mode()[0]\n",
    "CafeSales[\"Payment Method\"] = CafeSales[\"Payment Method\"].fillna(\"otro\")"
   ]
  },
  {
   "cell_type": "code",
   "execution_count": 18,
   "id": "f697d719-da21-4d67-8b14-ba2c78db723f",
   "metadata": {},
   "outputs": [],
   "source": [
    "CafeSales[\"Location\"] = CafeSales[\"Location\"].replace([\"nan\", \"ERROR\",\"UNKNOWN\"], np.nan)"
   ]
  },
  {
   "cell_type": "code",
   "execution_count": 19,
   "id": "e63fd9f6-a128-4ea9-8edc-8074126f0ffa",
   "metadata": {},
   "outputs": [],
   "source": [
    "CafeSales[\"Location\"] = CafeSales[\"Location\"].fillna(\"otro\")"
   ]
  },
  {
   "cell_type": "markdown",
   "id": "c20bd218-6bf5-4fa7-bffd-a0dd698e24fa",
   "metadata": {},
   "source": [
    "#### Valores Numericos"
   ]
  },
  {
   "cell_type": "code",
   "execution_count": 21,
   "id": "a6c63cfd-ea46-48ec-888a-e3672e1900d2",
   "metadata": {},
   "outputs": [],
   "source": [
    "CafeSales[\"Location\"] = CafeSales[\"Location\"].str.lower()"
   ]
  },
  {
   "cell_type": "code",
   "execution_count": 22,
   "id": "a29ac429-1c9f-417e-94e4-d41abf6279a9",
   "metadata": {},
   "outputs": [],
   "source": [
    "CafeSales[\"Quantity\"] = CafeSales[\"Quantity\"].replace(0, np.nan)"
   ]
  },
  {
   "cell_type": "code",
   "execution_count": 23,
   "id": "d7123fcd-bb2d-48b3-876b-567de509bb37",
   "metadata": {},
   "outputs": [],
   "source": [
    "CafeSales[\"Price Per Unit\"] = CafeSales[\"Price Per Unit\"].replace(0, np.nan)\n",
    "CafeSales[\"Total Spent\"] = CafeSales[\"Total Spent\"].replace(0, np.nan)"
   ]
  },
  {
   "cell_type": "code",
   "execution_count": 24,
   "id": "37350d6a-351a-4cc5-9eb7-e47b2904ae9d",
   "metadata": {},
   "outputs": [],
   "source": [
    "media = CafeSales[\"Quantity\"].mean()\n",
    "CafeSales[\"Quantity\"] = CafeSales[\"Quantity\"].fillna(media)  "
   ]
  },
  {
   "cell_type": "code",
   "execution_count": 25,
   "id": "f05bbdca-f0c9-446f-982f-01bb47b4de24",
   "metadata": {},
   "outputs": [],
   "source": [
    "CafeSales[\"Quantity\"] = CafeSales[\"Quantity\"].round(0)"
   ]
  },
  {
   "cell_type": "code",
   "execution_count": 26,
   "id": "f7e7bc5a-fe8f-4db6-982c-8d27c7dd7922",
   "metadata": {},
   "outputs": [],
   "source": [
    "CafeSales[\"Quantity\"] = CafeSales[\"Quantity\"].astype(int)"
   ]
  },
  {
   "cell_type": "code",
   "execution_count": 27,
   "id": "c807a566-c8b2-497c-9480-d327f498fa67",
   "metadata": {},
   "outputs": [],
   "source": [
    "moda2 = CafeSales[\"Price Per Unit\"].mode()[0]\n",
    "CafeSales[\"Price Per Unit\"] = CafeSales[\"Price Per Unit\"].fillna(moda2) "
   ]
  },
  {
   "cell_type": "code",
   "execution_count": 28,
   "id": "c137e9a3-1e29-4499-af60-fbfb99a450b3",
   "metadata": {},
   "outputs": [],
   "source": [
    "PrecioUnidad = CafeSales[\"Quantity\"] * CafeSales[\"Price Per Unit\"]\n",
    "CafeSales[\"Total Spent\"] = CafeSales[\"Total Spent\"].fillna(PrecioUnidad)"
   ]
  },
  {
   "cell_type": "code",
   "execution_count": 29,
   "id": "7b769d70-1f34-4e20-8a61-7ecee42cff4c",
   "metadata": {},
   "outputs": [],
   "source": [
    "CafeSales =CafeSales.drop(\n",
    "    labels = [\"Transaction ID\"],\n",
    "    axis = \"columns\" \n",
    ")"
   ]
  },
  {
   "cell_type": "code",
   "execution_count": 30,
   "id": "394097b6-4d68-4271-80db-5ee37c516237",
   "metadata": {},
   "outputs": [],
   "source": [
    "CafeSales[\"Transaction Date\"] = CafeSales[\"Transaction Date\"].ffill()\n"
   ]
  },
  {
   "cell_type": "code",
   "execution_count": 31,
   "id": "3a5043cb-be78-47bd-80cb-5bac37bf00dc",
   "metadata": {},
   "outputs": [],
   "source": [
    "CafeSales[\"Transaction Month\"] = CafeSales[\"Transaction Date\"].dt.to_period(\"M\").dt.to_timestamp()"
   ]
  },
  {
   "cell_type": "code",
   "execution_count": 32,
   "id": "15ee2068-a1a9-4c77-bde9-8b2b2b3d7637",
   "metadata": {},
   "outputs": [],
   "source": [
    "CafeSales[\"Transaction Date\"] = pd.to_datetime(CafeSales[\"Transaction Date\"])\n",
    "CafeSales[\"DíaSemana\"] = CafeSales[\"Transaction Date\"].dt.day_name()"
   ]
  },
  {
   "cell_type": "code",
   "execution_count": 33,
   "id": "092b6ada-c021-430d-8012-38be8e2bb63e",
   "metadata": {},
   "outputs": [
    {
     "data": {
      "text/html": [
       "<div>\n",
       "<style scoped>\n",
       "    .dataframe tbody tr th:only-of-type {\n",
       "        vertical-align: middle;\n",
       "    }\n",
       "\n",
       "    .dataframe tbody tr th {\n",
       "        vertical-align: top;\n",
       "    }\n",
       "\n",
       "    .dataframe thead th {\n",
       "        text-align: right;\n",
       "    }\n",
       "</style>\n",
       "<table border=\"1\" class=\"dataframe\">\n",
       "  <thead>\n",
       "    <tr style=\"text-align: right;\">\n",
       "      <th></th>\n",
       "      <th>Item</th>\n",
       "      <th>Quantity</th>\n",
       "      <th>Price Per Unit</th>\n",
       "      <th>Total Spent</th>\n",
       "      <th>Payment Method</th>\n",
       "      <th>Location</th>\n",
       "      <th>Transaction Date</th>\n",
       "      <th>Transaction Month</th>\n",
       "      <th>DíaSemana</th>\n",
       "    </tr>\n",
       "  </thead>\n",
       "  <tbody>\n",
       "    <tr>\n",
       "      <th>0</th>\n",
       "      <td>Coffee</td>\n",
       "      <td>2</td>\n",
       "      <td>2.0</td>\n",
       "      <td>4.0</td>\n",
       "      <td>Credit Card</td>\n",
       "      <td>takeaway</td>\n",
       "      <td>2023-09-08</td>\n",
       "      <td>2023-09-01</td>\n",
       "      <td>Friday</td>\n",
       "    </tr>\n",
       "    <tr>\n",
       "      <th>1</th>\n",
       "      <td>Cake</td>\n",
       "      <td>4</td>\n",
       "      <td>3.0</td>\n",
       "      <td>12.0</td>\n",
       "      <td>Cash</td>\n",
       "      <td>in-store</td>\n",
       "      <td>2023-05-16</td>\n",
       "      <td>2023-05-01</td>\n",
       "      <td>Tuesday</td>\n",
       "    </tr>\n",
       "    <tr>\n",
       "      <th>2</th>\n",
       "      <td>Cookie</td>\n",
       "      <td>4</td>\n",
       "      <td>1.0</td>\n",
       "      <td>4.0</td>\n",
       "      <td>Credit Card</td>\n",
       "      <td>in-store</td>\n",
       "      <td>2023-07-19</td>\n",
       "      <td>2023-07-01</td>\n",
       "      <td>Wednesday</td>\n",
       "    </tr>\n",
       "    <tr>\n",
       "      <th>3</th>\n",
       "      <td>Salad</td>\n",
       "      <td>2</td>\n",
       "      <td>5.0</td>\n",
       "      <td>10.0</td>\n",
       "      <td>otro</td>\n",
       "      <td>otro</td>\n",
       "      <td>2023-04-27</td>\n",
       "      <td>2023-04-01</td>\n",
       "      <td>Thursday</td>\n",
       "    </tr>\n",
       "    <tr>\n",
       "      <th>4</th>\n",
       "      <td>Coffee</td>\n",
       "      <td>2</td>\n",
       "      <td>2.0</td>\n",
       "      <td>4.0</td>\n",
       "      <td>Digital Wallet</td>\n",
       "      <td>in-store</td>\n",
       "      <td>2023-06-11</td>\n",
       "      <td>2023-06-01</td>\n",
       "      <td>Sunday</td>\n",
       "    </tr>\n",
       "    <tr>\n",
       "      <th>...</th>\n",
       "      <td>...</td>\n",
       "      <td>...</td>\n",
       "      <td>...</td>\n",
       "      <td>...</td>\n",
       "      <td>...</td>\n",
       "      <td>...</td>\n",
       "      <td>...</td>\n",
       "      <td>...</td>\n",
       "      <td>...</td>\n",
       "    </tr>\n",
       "    <tr>\n",
       "      <th>9995</th>\n",
       "      <td>Coffee</td>\n",
       "      <td>2</td>\n",
       "      <td>2.0</td>\n",
       "      <td>4.0</td>\n",
       "      <td>otro</td>\n",
       "      <td>otro</td>\n",
       "      <td>2023-08-30</td>\n",
       "      <td>2023-08-01</td>\n",
       "      <td>Wednesday</td>\n",
       "    </tr>\n",
       "    <tr>\n",
       "      <th>9996</th>\n",
       "      <td>Juice</td>\n",
       "      <td>3</td>\n",
       "      <td>3.0</td>\n",
       "      <td>3.0</td>\n",
       "      <td>Digital Wallet</td>\n",
       "      <td>otro</td>\n",
       "      <td>2023-06-02</td>\n",
       "      <td>2023-06-01</td>\n",
       "      <td>Friday</td>\n",
       "    </tr>\n",
       "    <tr>\n",
       "      <th>9997</th>\n",
       "      <td>Coffee</td>\n",
       "      <td>4</td>\n",
       "      <td>2.0</td>\n",
       "      <td>8.0</td>\n",
       "      <td>Digital Wallet</td>\n",
       "      <td>otro</td>\n",
       "      <td>2023-03-02</td>\n",
       "      <td>2023-03-01</td>\n",
       "      <td>Thursday</td>\n",
       "    </tr>\n",
       "    <tr>\n",
       "      <th>9998</th>\n",
       "      <td>Cookie</td>\n",
       "      <td>3</td>\n",
       "      <td>3.0</td>\n",
       "      <td>3.0</td>\n",
       "      <td>Digital Wallet</td>\n",
       "      <td>otro</td>\n",
       "      <td>2023-12-02</td>\n",
       "      <td>2023-12-01</td>\n",
       "      <td>Saturday</td>\n",
       "    </tr>\n",
       "    <tr>\n",
       "      <th>9999</th>\n",
       "      <td>Sandwich</td>\n",
       "      <td>3</td>\n",
       "      <td>4.0</td>\n",
       "      <td>12.0</td>\n",
       "      <td>Cash</td>\n",
       "      <td>in-store</td>\n",
       "      <td>2023-11-07</td>\n",
       "      <td>2023-11-01</td>\n",
       "      <td>Tuesday</td>\n",
       "    </tr>\n",
       "  </tbody>\n",
       "</table>\n",
       "<p>10000 rows × 9 columns</p>\n",
       "</div>"
      ],
      "text/plain": [
       "          Item  Quantity  Price Per Unit  Total Spent  Payment Method  \\\n",
       "0       Coffee         2             2.0          4.0     Credit Card   \n",
       "1         Cake         4             3.0         12.0            Cash   \n",
       "2       Cookie         4             1.0          4.0     Credit Card   \n",
       "3        Salad         2             5.0         10.0            otro   \n",
       "4       Coffee         2             2.0          4.0  Digital Wallet   \n",
       "...        ...       ...             ...          ...             ...   \n",
       "9995    Coffee         2             2.0          4.0            otro   \n",
       "9996     Juice         3             3.0          3.0  Digital Wallet   \n",
       "9997    Coffee         4             2.0          8.0  Digital Wallet   \n",
       "9998    Cookie         3             3.0          3.0  Digital Wallet   \n",
       "9999  Sandwich         3             4.0         12.0            Cash   \n",
       "\n",
       "      Location Transaction Date Transaction Month  DíaSemana  \n",
       "0     takeaway       2023-09-08        2023-09-01     Friday  \n",
       "1     in-store       2023-05-16        2023-05-01    Tuesday  \n",
       "2     in-store       2023-07-19        2023-07-01  Wednesday  \n",
       "3         otro       2023-04-27        2023-04-01   Thursday  \n",
       "4     in-store       2023-06-11        2023-06-01     Sunday  \n",
       "...        ...              ...               ...        ...  \n",
       "9995      otro       2023-08-30        2023-08-01  Wednesday  \n",
       "9996      otro       2023-06-02        2023-06-01     Friday  \n",
       "9997      otro       2023-03-02        2023-03-01   Thursday  \n",
       "9998      otro       2023-12-02        2023-12-01   Saturday  \n",
       "9999  in-store       2023-11-07        2023-11-01    Tuesday  \n",
       "\n",
       "[10000 rows x 9 columns]"
      ]
     },
     "execution_count": 33,
     "metadata": {},
     "output_type": "execute_result"
    }
   ],
   "source": [
    "CafeSales"
   ]
  },
  {
   "cell_type": "code",
   "execution_count": 34,
   "id": "245cab6e-498f-44fb-8a07-c423a61feb39",
   "metadata": {},
   "outputs": [
    {
     "data": {
      "text/plain": [
       "Item                         object\n",
       "Quantity                      int32\n",
       "Price Per Unit              float64\n",
       "Total Spent                 float64\n",
       "Payment Method               object\n",
       "Location                     object\n",
       "Transaction Date     datetime64[ns]\n",
       "Transaction Month    datetime64[ns]\n",
       "DíaSemana                    object\n",
       "dtype: object"
      ]
     },
     "execution_count": 34,
     "metadata": {},
     "output_type": "execute_result"
    }
   ],
   "source": [
    "CafeSales.dtypes"
   ]
  },
  {
   "cell_type": "code",
   "execution_count": 35,
   "id": "8ddc17b2-1186-49a5-8043-ad475a4a48c0",
   "metadata": {},
   "outputs": [],
   "source": [
    "CafeSales.to_csv(\"CafeSales_limpio.csv\", index=False, encoding=\"utf-8\")"
   ]
  },
  {
   "cell_type": "markdown",
   "id": "3646b310-66bb-4622-b3ed-6ade0a061b57",
   "metadata": {},
   "source": [
    "## Analisis Exploratorio"
   ]
  },
  {
   "cell_type": "markdown",
   "id": "9d95b34c-ad37-4191-8949-9ca79510e20b",
   "metadata": {},
   "source": [
    "### Analisis de los Productos"
   ]
  },
  {
   "cell_type": "markdown",
   "id": "15418857-2edf-45e5-b774-71aa58824b43",
   "metadata": {},
   "source": [
    "¿Cuáles son los productos más vendidos?"
   ]
  },
  {
   "cell_type": "code",
   "execution_count": 39,
   "id": "793667bd-f501-435b-a9f2-ee0f295b4b4e",
   "metadata": {},
   "outputs": [],
   "source": [
    "CafeSales = pd.read_csv(\"CafeSales_limpio.csv\", parse_dates=[\"Transaction Date\", \"Transaction Month\"])"
   ]
  },
  {
   "cell_type": "code",
   "execution_count": 40,
   "id": "c72b33e4-3200-4901-9c60-2b646a580ee8",
   "metadata": {
    "scrolled": true
   },
   "outputs": [
    {
     "data": {
      "text/plain": [
       "Item                         object\n",
       "Quantity                      int64\n",
       "Price Per Unit              float64\n",
       "Total Spent                 float64\n",
       "Payment Method               object\n",
       "Location                     object\n",
       "Transaction Date     datetime64[ns]\n",
       "Transaction Month    datetime64[ns]\n",
       "DíaSemana                    object\n",
       "dtype: object"
      ]
     },
     "execution_count": 40,
     "metadata": {},
     "output_type": "execute_result"
    }
   ],
   "source": [
    "CafeSales.dtypes"
   ]
  },
  {
   "cell_type": "code",
   "execution_count": 41,
   "id": "967fb73d-f0aa-49ce-8e85-45329e06783d",
   "metadata": {},
   "outputs": [],
   "source": [
    "Producto_Mas_Vendido = CafeSales.groupby([\"Item\"]).agg({\n",
    "    \"Quantity\" : \"sum\",\n",
    "}).reset_index().head(5)"
   ]
  },
  {
   "cell_type": "code",
   "execution_count": 42,
   "id": "1c36abb1-cb11-4b89-891f-435e3f50c960",
   "metadata": {},
   "outputs": [
    {
     "data": {
      "text/html": [
       "<div>\n",
       "<style scoped>\n",
       "    .dataframe tbody tr th:only-of-type {\n",
       "        vertical-align: middle;\n",
       "    }\n",
       "\n",
       "    .dataframe tbody tr th {\n",
       "        vertical-align: top;\n",
       "    }\n",
       "\n",
       "    .dataframe thead th {\n",
       "        text-align: right;\n",
       "    }\n",
       "</style>\n",
       "<table border=\"1\" class=\"dataframe\">\n",
       "  <thead>\n",
       "    <tr style=\"text-align: right;\">\n",
       "      <th></th>\n",
       "      <th>Item</th>\n",
       "      <th>Quantity</th>\n",
       "    </tr>\n",
       "  </thead>\n",
       "  <tbody>\n",
       "    <tr>\n",
       "      <th>3</th>\n",
       "      <td>Juice</td>\n",
       "      <td>6435</td>\n",
       "    </tr>\n",
       "    <tr>\n",
       "      <th>1</th>\n",
       "      <td>Coffee</td>\n",
       "      <td>3551</td>\n",
       "    </tr>\n",
       "    <tr>\n",
       "      <th>4</th>\n",
       "      <td>Salad</td>\n",
       "      <td>3469</td>\n",
       "    </tr>\n",
       "    <tr>\n",
       "      <th>0</th>\n",
       "      <td>Cake</td>\n",
       "      <td>3467</td>\n",
       "    </tr>\n",
       "    <tr>\n",
       "      <th>2</th>\n",
       "      <td>Cookie</td>\n",
       "      <td>3249</td>\n",
       "    </tr>\n",
       "  </tbody>\n",
       "</table>\n",
       "</div>"
      ],
      "text/plain": [
       "     Item  Quantity\n",
       "3   Juice      6435\n",
       "1  Coffee      3551\n",
       "4   Salad      3469\n",
       "0    Cake      3467\n",
       "2  Cookie      3249"
      ]
     },
     "execution_count": 42,
     "metadata": {},
     "output_type": "execute_result"
    }
   ],
   "source": [
    "Producto_Mas_Vendido.sort_values(by = \"Quantity\", ascending = False)"
   ]
  },
  {
   "cell_type": "code",
   "execution_count": 43,
   "id": "59a00e59-2c76-43d3-8df2-d7559ec3673c",
   "metadata": {},
   "outputs": [
    {
     "name": "stderr",
     "output_type": "stream",
     "text": [
      "C:\\Users\\Lenovo\\AppData\\Local\\Temp\\ipykernel_14504\\3947641295.py:1: FutureWarning: \n",
      "\n",
      "Passing `palette` without assigning `hue` is deprecated and will be removed in v0.14.0. Assign the `x` variable to `hue` and set `legend=False` for the same effect.\n",
      "\n",
      "  sns.barplot(\n"
     ]
    },
    {
     "data": {
      "text/plain": [
       "Text(0.5, 1.0, 'unidades Vendidas')"
      ]
     },
     "execution_count": 43,
     "metadata": {},
     "output_type": "execute_result"
    },
    {
     "data": {
      "image/png": "[encoded data removed]",
      "text/plain": [
       "<Figure size 640x480 with 1 Axes>"
      ]
     },
     "metadata": {},
     "output_type": "display_data"
    }
   ],
   "source": [
    "sns.barplot(\n",
    "    data = Producto_Mas_Vendido,\n",
    "    y = \"Quantity\",\n",
    "    x = \"Item\",\n",
    "    palette = \"tab20_r\"\n",
    ") \n",
    "plt.title(\"unidades Vendidas\")"
   ]
  },
  {
   "cell_type": "markdown",
   "id": "87c8b1ff-6ca0-4182-99ee-c3b6737e7baa",
   "metadata": {},
   "source": [
    "Se puede apreciar una gran diferencia entre cuales son los productos mas vendidos, de un total de 8 productos que se venden han vendido en el cafe durante el año 2023 \n",
    "el que tiene una mayoria es \"Juice\" con 6435 unidades, el resto de productos van en un rango de ventas de entre \"3249\" a \"3551\" con una diferencia poco notable, siendo \"Coffe\"  \"Salad\"\n",
    "el segundo y el tercero mas vendido respectivamente.El total de unidades vendidas en 2023 fue de 30270 unidades."
   ]
  },
  {
   "cell_type": "markdown",
   "id": "272968b9-9e71-41d4-a602-660518c24c01",
   "metadata": {},
   "source": [
    "¿Qué productos generan mayor ingreso?"
   ]
  },
  {
   "cell_type": "code",
   "execution_count": 46,
   "id": "315cb9a1-52d7-4ce4-b693-2eaec1240df2",
   "metadata": {},
   "outputs": [],
   "source": [
    "MayorIngreso = CafeSales.groupby(\"Item\").agg({\n",
    "    \"Total Spent\" : \"sum\"\n",
    "}).reset_index().head(5)"
   ]
  },
  {
   "cell_type": "code",
   "execution_count": 47,
   "id": "2152a295-7601-4c10-8df4-a38851479e7b",
   "metadata": {},
   "outputs": [
    {
     "data": {
      "text/html": [
       "<div>\n",
       "<style scoped>\n",
       "    .dataframe tbody tr th:only-of-type {\n",
       "        vertical-align: middle;\n",
       "    }\n",
       "\n",
       "    .dataframe tbody tr th {\n",
       "        vertical-align: top;\n",
       "    }\n",
       "\n",
       "    .dataframe thead th {\n",
       "        text-align: right;\n",
       "    }\n",
       "</style>\n",
       "<table border=\"1\" class=\"dataframe\">\n",
       "  <thead>\n",
       "    <tr style=\"text-align: right;\">\n",
       "      <th></th>\n",
       "      <th>Item</th>\n",
       "      <th>Total Spent</th>\n",
       "    </tr>\n",
       "  </thead>\n",
       "  <tbody>\n",
       "    <tr>\n",
       "      <th>3</th>\n",
       "      <td>Juice</td>\n",
       "      <td>19079.5</td>\n",
       "    </tr>\n",
       "    <tr>\n",
       "      <th>4</th>\n",
       "      <td>Salad</td>\n",
       "      <td>17365.0</td>\n",
       "    </tr>\n",
       "    <tr>\n",
       "      <th>0</th>\n",
       "      <td>Cake</td>\n",
       "      <td>10413.0</td>\n",
       "    </tr>\n",
       "    <tr>\n",
       "      <th>1</th>\n",
       "      <td>Coffee</td>\n",
       "      <td>7107.0</td>\n",
       "    </tr>\n",
       "    <tr>\n",
       "      <th>2</th>\n",
       "      <td>Cookie</td>\n",
       "      <td>3256.0</td>\n",
       "    </tr>\n",
       "  </tbody>\n",
       "</table>\n",
       "</div>"
      ],
      "text/plain": [
       "     Item  Total Spent\n",
       "3   Juice      19079.5\n",
       "4   Salad      17365.0\n",
       "0    Cake      10413.0\n",
       "1  Coffee       7107.0\n",
       "2  Cookie       3256.0"
      ]
     },
     "execution_count": 47,
     "metadata": {},
     "output_type": "execute_result"
    }
   ],
   "source": [
    "MayorIngreso.sort_values(by = \"Total Spent\", ascending = False)"
   ]
  },
  {
   "cell_type": "code",
   "execution_count": 48,
   "id": "a5691546-e9c8-4cd6-aad7-94e52e2cc20e",
   "metadata": {},
   "outputs": [
    {
     "name": "stderr",
     "output_type": "stream",
     "text": [
      "C:\\Users\\Lenovo\\AppData\\Local\\Temp\\ipykernel_14504\\1075440953.py:1: FutureWarning: \n",
      "\n",
      "Passing `palette` without assigning `hue` is deprecated and will be removed in v0.14.0. Assign the `x` variable to `hue` and set `legend=False` for the same effect.\n",
      "\n",
      "  sns.barplot(\n"
     ]
    },
    {
     "data": {
      "text/plain": [
       "Text(0.5, 1.0, 'Rentablidad por Producto')"
      ]
     },
     "execution_count": 48,
     "metadata": {},
     "output_type": "execute_result"
    },
    {
     "data": {
      "image/png": "[encoded data removed]",
      "text/plain": [
       "<Figure size 640x480 with 1 Axes>"
      ]
     },
     "metadata": {},
     "output_type": "display_data"
    }
   ],
   "source": [
    "sns.barplot(\n",
    "    data = MayorIngreso,\n",
    "    y = \"Total Spent\",\n",
    "    x = \"Item\",\n",
    "    palette = \"tab20_r\"\n",
    ") \n",
    "plt.title(\"Rentablidad por Producto\")\n",
    "\n"
   ]
  },
  {
   "cell_type": "code",
   "execution_count": 49,
   "id": "0436cac9-9859-4e97-ac7c-816489258b2c",
   "metadata": {},
   "outputs": [
    {
     "name": "stderr",
     "output_type": "stream",
     "text": [
      "C:\\Users\\Lenovo\\AppData\\Local\\Temp\\ipykernel_14504\\1902290230.py:3: FutureWarning: \n",
      "\n",
      "Passing `palette` without assigning `hue` is deprecated and will be removed in v0.14.0. Assign the `x` variable to `hue` and set `legend=False` for the same effect.\n",
      "\n",
      "  sns.barplot(\n",
      "C:\\Users\\Lenovo\\AppData\\Local\\Temp\\ipykernel_14504\\1902290230.py:11: UserWarning: set_ticklabels() should only be used with a fixed number of ticks, i.e. after set_ticks() or using a FixedLocator.\n",
      "  ax1.set_xticklabels(ax1.get_xticklabels(), rotation=45)\n",
      "C:\\Users\\Lenovo\\AppData\\Local\\Temp\\ipykernel_14504\\1902290230.py:13: FutureWarning: \n",
      "\n",
      "Passing `palette` without assigning `hue` is deprecated and will be removed in v0.14.0. Assign the `x` variable to `hue` and set `legend=False` for the same effect.\n",
      "\n",
      "  sns.barplot(\n",
      "C:\\Users\\Lenovo\\AppData\\Local\\Temp\\ipykernel_14504\\1902290230.py:21: UserWarning: set_ticklabels() should only be used with a fixed number of ticks, i.e. after set_ticks() or using a FixedLocator.\n",
      "  ax2.set_xticklabels(ax2.get_xticklabels(), rotation=45)\n"
     ]
    },
    {
     "data": {
      "image/png": "[encoded data removed]",
      "text/plain": [
       "<Figure size 1600x600 with 2 Axes>"
      ]
     },
     "metadata": {},
     "output_type": "display_data"
    }
   ],
   "source": [
    "fig, (ax1, ax2) = plt.subplots(1, 2, figsize=(16, 6))\n",
    "\n",
    "sns.barplot(\n",
    "    data=MayorIngreso,\n",
    "    y=\"Total Spent\",\n",
    "    x=\"Item\",\n",
    "    palette=\"tab20_r\",\n",
    "    ax=ax1\n",
    ")\n",
    "ax1.set_title(\"Rentabilidad por Producto\")\n",
    "ax1.set_xticklabels(ax1.get_xticklabels(), rotation=45)\n",
    "\n",
    "sns.barplot(\n",
    "    data=Producto_Mas_Vendido,\n",
    "    y=\"Quantity\",\n",
    "    x=\"Item\",\n",
    "    palette=\"Dark2\",\n",
    "    ax=ax2\n",
    ")\n",
    "ax2.set_title(\"Unidades Vendidas\")\n",
    "ax2.set_xticklabels(ax2.get_xticklabels(), rotation=45)\n",
    "\n",
    "plt.tight_layout()\n",
    "plt.show()"
   ]
  },
  {
   "cell_type": "code",
   "execution_count": 50,
   "id": "0f5bd550-3d88-430d-ba7d-f9b8dff1428c",
   "metadata": {},
   "outputs": [],
   "source": [
    "MayorIngreso = CafeSales.groupby(\"Item\").agg({\n",
    "    \"Total Spent\" : \"sum\",\n",
    "    \"Price Per Unit\" : \"mean\"\n",
    "}).reset_index().head(5)\n",
    "\n",
    "total_general = MayorIngreso[\"Total Spent\"].sum()\n",
    "MayorIngreso[\"% del Total\"] = (MayorIngreso[\"Total Spent\"] / total_general) * 100\n",
    "MayorIngreso[\"% del Total\"] = MayorIngreso[\"% del Total\"].round(2)\n",
    "MayorIngreso = MayorIngreso.sort_values(by=\"Total Spent\", ascending=False).head(5)"
   ]
  },
  {
   "cell_type": "code",
   "execution_count": 51,
   "id": "7a0f7011-4451-4258-afbd-09b6430dfd14",
   "metadata": {},
   "outputs": [
    {
     "data": {
      "text/html": [
       "<div>\n",
       "<style scoped>\n",
       "    .dataframe tbody tr th:only-of-type {\n",
       "        vertical-align: middle;\n",
       "    }\n",
       "\n",
       "    .dataframe tbody tr th {\n",
       "        vertical-align: top;\n",
       "    }\n",
       "\n",
       "    .dataframe thead th {\n",
       "        text-align: right;\n",
       "    }\n",
       "</style>\n",
       "<table border=\"1\" class=\"dataframe\">\n",
       "  <thead>\n",
       "    <tr style=\"text-align: right;\">\n",
       "      <th></th>\n",
       "      <th>Item</th>\n",
       "      <th>Total Spent</th>\n",
       "      <th>Price Per Unit</th>\n",
       "      <th>% del Total</th>\n",
       "    </tr>\n",
       "  </thead>\n",
       "  <tbody>\n",
       "    <tr>\n",
       "      <th>3</th>\n",
       "      <td>Juice</td>\n",
       "      <td>19079.5</td>\n",
       "      <td>2.971495</td>\n",
       "      <td>33.34</td>\n",
       "    </tr>\n",
       "    <tr>\n",
       "      <th>4</th>\n",
       "      <td>Salad</td>\n",
       "      <td>17365.0</td>\n",
       "      <td>4.885017</td>\n",
       "      <td>30.35</td>\n",
       "    </tr>\n",
       "    <tr>\n",
       "      <th>0</th>\n",
       "      <td>Cake</td>\n",
       "      <td>10413.0</td>\n",
       "      <td>3.000000</td>\n",
       "      <td>18.20</td>\n",
       "    </tr>\n",
       "    <tr>\n",
       "      <th>1</th>\n",
       "      <td>Coffee</td>\n",
       "      <td>7107.0</td>\n",
       "      <td>2.048927</td>\n",
       "      <td>12.42</td>\n",
       "    </tr>\n",
       "    <tr>\n",
       "      <th>2</th>\n",
       "      <td>Cookie</td>\n",
       "      <td>3256.0</td>\n",
       "      <td>1.120879</td>\n",
       "      <td>5.69</td>\n",
       "    </tr>\n",
       "  </tbody>\n",
       "</table>\n",
       "</div>"
      ],
      "text/plain": [
       "     Item  Total Spent  Price Per Unit  % del Total\n",
       "3   Juice      19079.5        2.971495        33.34\n",
       "4   Salad      17365.0        4.885017        30.35\n",
       "0    Cake      10413.0        3.000000        18.20\n",
       "1  Coffee       7107.0        2.048927        12.42\n",
       "2  Cookie       3256.0        1.120879         5.69"
      ]
     },
     "execution_count": 51,
     "metadata": {},
     "output_type": "execute_result"
    }
   ],
   "source": [
    "MayorIngreso"
   ]
  },
  {
   "cell_type": "code",
   "execution_count": 52,
   "id": "13ef1bdc-da03-4124-8dfb-a43a2f734db8",
   "metadata": {},
   "outputs": [
    {
     "name": "stderr",
     "output_type": "stream",
     "text": [
      "C:\\Users\\Lenovo\\AppData\\Local\\Temp\\ipykernel_14504\\2013454239.py:1: FutureWarning: \n",
      "\n",
      "Passing `palette` without assigning `hue` is deprecated and will be removed in v0.14.0. Assign the `y` variable to `hue` and set `legend=False` for the same effect.\n",
      "\n",
      "  sns.barplot(\n"
     ]
    },
    {
     "data": {
      "image/png": "[encoded data removed]",
      "text/plain": [
       "<Figure size 640x480 with 1 Axes>"
      ]
     },
     "metadata": {},
     "output_type": "display_data"
    }
   ],
   "source": [
    "sns.barplot(\n",
    "    data=MayorIngreso,\n",
    "    x=\"% del Total\",\n",
    "    y=\"Item\",\n",
    "    palette=\"viridis\"\n",
    ")\n",
    "plt.title(\"Porcentaje del Total Spent por Producto\")\n",
    "plt.xlabel(\"Porcentaje (%)\")\n",
    "plt.ylabel(\"Producto\")\n",
    "plt.show()"
   ]
  },
  {
   "cell_type": "markdown",
   "id": "3c18ac7c-eeb3-4fd4-a045-1f3713268045",
   "metadata": {},
   "source": [
    "Cuando analizamos la rentabilidad por producto, observamos que el ítem \"Juice\" es el que más ingresos genera, con un total de €19,079.50. Sin embargo, le sigue muy de cerca \"Salad\", con una rentabilidad total de €17,365.00, lo que representa una diferencia de tan solo €1,714.50.\n",
    "Al comparar la rentabilidad con las unidades vendidas, se destaca que \"Juice\" se vende en una cantidad significativamente mayor que \"Salad\", pero ambas mantienen un nivel de rentabilidad similar. Esto puede atribuirse a la diferencia de precio por unidad: mientras que \"Juice\" tiene un precio promedio cercano a €3.00, \"Salad\" se sitúa en torno a €4.88.\n",
    "Esto abre la puerta a posibles estrategias comerciales:\n",
    "Se podría considerar un ligero aumento del precio de \"Juice\" aprovechando su alta demanda.\n",
    "A su vez, sería interesante ajustar el precio de \"Salad\" a la baja para incentivar un mayor volumen de ventas y así incrementar su rentabilidad general.\n",
    "Por otro lado, el producto \"Cookie\" presenta una rentabilidad considerablemente baja (€3,256.00), a pesar de registrar un volumen de ventas relativamente comparable con otros ítems. Esto se debe a su bajo precio promedio de €1.12, lo que limita su margen de beneficio. En este caso, podría evaluarse si conviene:\n",
    "Aumentar su precio ligeramente.\n",
    "O incluso replantear su continuidad en el catálogo si no ofrece valor estratégico para el negocio.\n",
    "Vemos que el 63,69% de la rentabilidad viene de los productos \"juice\" y \"Salad\" por lo que se recomienda el negocio se centre en ellas, sacando variedades y promociones para estos productos."
   ]
  },
  {
   "cell_type": "markdown",
   "id": "ed82e53e-9ad5-4564-9667-c74dfd4b9e1a",
   "metadata": {},
   "source": [
    "### Temporalidad"
   ]
  },
  {
   "cell_type": "markdown",
   "id": "cf553b83-6bbd-4da6-bbd8-164822dae20b",
   "metadata": {},
   "source": [
    "¿En qué días de la semana se produce mayor volumen de ventas?"
   ]
  },
  {
   "cell_type": "code",
   "execution_count": 56,
   "id": "6704db85-be14-4d0a-b893-092a41799b34",
   "metadata": {},
   "outputs": [],
   "source": [
    "CafeSales[\"DíaSemana\"] = CafeSales[\"Transaction Date\"].dt.day_name()\n",
    "\n",
    "VentasPorDia = CafeSales.groupby(\"DíaSemana\").agg({\n",
    "    \"Quantity\": \"sum\",\n",
    "    \"Total Spent\": \"sum\"\n",
    "}).reset_index()"
   ]
  },
  {
   "cell_type": "code",
   "execution_count": 57,
   "id": "22cf3f85-77a5-4064-8f8d-5ca7173f28ae",
   "metadata": {},
   "outputs": [
    {
     "data": {
      "text/html": [
       "<div>\n",
       "<style scoped>\n",
       "    .dataframe tbody tr th:only-of-type {\n",
       "        vertical-align: middle;\n",
       "    }\n",
       "\n",
       "    .dataframe tbody tr th {\n",
       "        vertical-align: top;\n",
       "    }\n",
       "\n",
       "    .dataframe thead th {\n",
       "        text-align: right;\n",
       "    }\n",
       "</style>\n",
       "<table border=\"1\" class=\"dataframe\">\n",
       "  <thead>\n",
       "    <tr style=\"text-align: right;\">\n",
       "      <th></th>\n",
       "      <th>DíaSemana</th>\n",
       "      <th>Quantity</th>\n",
       "      <th>Total Spent</th>\n",
       "    </tr>\n",
       "  </thead>\n",
       "  <tbody>\n",
       "    <tr>\n",
       "      <th>0</th>\n",
       "      <td>Friday</td>\n",
       "      <td>4386</td>\n",
       "      <td>12859.5</td>\n",
       "    </tr>\n",
       "    <tr>\n",
       "      <th>1</th>\n",
       "      <td>Monday</td>\n",
       "      <td>4382</td>\n",
       "      <td>12868.5</td>\n",
       "    </tr>\n",
       "    <tr>\n",
       "      <th>2</th>\n",
       "      <td>Saturday</td>\n",
       "      <td>4335</td>\n",
       "      <td>12811.5</td>\n",
       "    </tr>\n",
       "    <tr>\n",
       "      <th>3</th>\n",
       "      <td>Sunday</td>\n",
       "      <td>4365</td>\n",
       "      <td>12811.0</td>\n",
       "    </tr>\n",
       "    <tr>\n",
       "      <th>4</th>\n",
       "      <td>Thursday</td>\n",
       "      <td>4348</td>\n",
       "      <td>12938.5</td>\n",
       "    </tr>\n",
       "    <tr>\n",
       "      <th>5</th>\n",
       "      <td>Tuesday</td>\n",
       "      <td>4273</td>\n",
       "      <td>12729.0</td>\n",
       "    </tr>\n",
       "    <tr>\n",
       "      <th>6</th>\n",
       "      <td>Wednesday</td>\n",
       "      <td>4182</td>\n",
       "      <td>12289.5</td>\n",
       "    </tr>\n",
       "  </tbody>\n",
       "</table>\n",
       "</div>"
      ],
      "text/plain": [
       "   DíaSemana  Quantity  Total Spent\n",
       "0     Friday      4386      12859.5\n",
       "1     Monday      4382      12868.5\n",
       "2   Saturday      4335      12811.5\n",
       "3     Sunday      4365      12811.0\n",
       "4   Thursday      4348      12938.5\n",
       "5    Tuesday      4273      12729.0\n",
       "6  Wednesday      4182      12289.5"
      ]
     },
     "execution_count": 57,
     "metadata": {},
     "output_type": "execute_result"
    }
   ],
   "source": [
    "VentasPorDia.head(7)"
   ]
  },
  {
   "cell_type": "code",
   "execution_count": 58,
   "id": "1a9a0d2d-5b49-4ba7-a22f-96ca2fd83b75",
   "metadata": {},
   "outputs": [
    {
     "name": "stderr",
     "output_type": "stream",
     "text": [
      "C:\\Users\\Lenovo\\AppData\\Local\\Temp\\ipykernel_14504\\1620224295.py:12: FutureWarning: \n",
      "\n",
      "Passing `palette` without assigning `hue` is deprecated and will be removed in v0.14.0. Assign the `x` variable to `hue` and set `legend=False` for the same effect.\n",
      "\n",
      "  sns.barplot(\n"
     ]
    },
    {
     "data": {
      "image/png": "[encoded data removed]",
      "text/plain": [
       "<Figure size 1600x600 with 1 Axes>"
      ]
     },
     "metadata": {},
     "output_type": "display_data"
    }
   ],
   "source": [
    "orden_dias = [\"Monday\", \"Tuesday\", \"Wednesday\", \"Thursday\", \"Friday\", \"Saturday\", \"Sunday\"]\n",
    "\n",
    "VentasPorDia[\"DíaSemana\"] = pd.Categorical(\n",
    "    VentasPorDia[\"DíaSemana\"],\n",
    "    categories=orden_dias,\n",
    "    ordered=True\n",
    ")\n",
    "\n",
    "VentasPorDia = VentasPorDia.sort_values(\"DíaSemana\")\n",
    "\n",
    "plt.figure(figsize=(16, 6))\n",
    "sns.barplot(\n",
    "    data=VentasPorDia,\n",
    "    x=\"DíaSemana\",\n",
    "    y=\"Total Spent\",\n",
    "    palette=\"tab20_r\"\n",
    ")\n",
    "plt.title(\"Total de ventas por día\")\n",
    "plt.ylabel(\"Total Spent (€)\")\n",
    "plt.ylim(12000)\n",
    "plt.xticks(rotation=45)\n",
    "plt.tight_layout()\n",
    "plt.show()"
   ]
  },
  {
   "cell_type": "markdown",
   "id": "46a823a0-eb9d-4ae6-81d7-0bd16362cad2",
   "metadata": {},
   "source": [
    "En el siguiente grafico pomdemos ver un incremento de ventas total los fines de semana siendo el dia que mas se factura el Jueves y siendo el dia que menos se factura los miercoles, posiblemente se deba a que es el inicio del fin de semana y mucha gente ya no trabaje el finde, los productos que mas se venden son Juice, Salad y Sandwich respectivamente, podemos ver que hay un aumento de ventas del producto Juice los lunes, seguramente si mirasemos las horas seria por la mañana dado a los desayunos, el dia que menos Juice se vende es el martes, los sandwiches en cambio se venden mejor desde el sabado hasta el martes, teniendo un gran desnivel en el resto de la semana, se podrian hacer ofertas focalizadas esos dias para incentivar el consumo, el consumo de cookies se mantiene en minimos toda la semana otro motivo mas para su posible retiro del catalogo ya que apenas represeta un 5% de la rentabilidad total, los cake tienen una buena venta general a lo largo de la semana pero una caida el miercoles sobre todo, de la misma forma que antes se podrian hacer ofertas especiales para ese producto en ese da especifico."
   ]
  },
  {
   "cell_type": "markdown",
   "id": "80a1350b-2431-432d-b198-ddd0844e15b6",
   "metadata": {},
   "source": [
    "¿Hubo algún mes particularmente alto o bajo en términos de facturación?"
   ]
  },
  {
   "cell_type": "code",
   "execution_count": 61,
   "id": "7dacaf5c-d19a-4898-92ab-73cd50cefc5b",
   "metadata": {},
   "outputs": [],
   "source": [
    "CafeSales[\"Transaction Date\"] = pd.to_datetime(CafeSales[\"Transaction Date\"])\n",
    "CafeSales[\"Transaction Month Name\"] = CafeSales[\"Transaction Date\"].dt.month_name()\n",
    "\n",
    "VentasPorMes = CafeSales.groupby([\"Item\", \"Transaction Month Name\"]).agg({\n",
    "    \"Total Spent\" : \"sum\", \n",
    "    \"Quantity\" : \"sum\"\n",
    "}).reset_index()"
   ]
  },
  {
   "cell_type": "code",
   "execution_count": 62,
   "id": "25aa86f9-e273-4303-b598-1db1288064bb",
   "metadata": {},
   "outputs": [
    {
     "data": {
      "text/html": [
       "<div>\n",
       "<style scoped>\n",
       "    .dataframe tbody tr th:only-of-type {\n",
       "        vertical-align: middle;\n",
       "    }\n",
       "\n",
       "    .dataframe tbody tr th {\n",
       "        vertical-align: top;\n",
       "    }\n",
       "\n",
       "    .dataframe thead th {\n",
       "        text-align: right;\n",
       "    }\n",
       "</style>\n",
       "<table border=\"1\" class=\"dataframe\">\n",
       "  <thead>\n",
       "    <tr style=\"text-align: right;\">\n",
       "      <th></th>\n",
       "      <th>Item</th>\n",
       "      <th>Transaction Month Name</th>\n",
       "      <th>Total Spent</th>\n",
       "      <th>Quantity</th>\n",
       "    </tr>\n",
       "  </thead>\n",
       "  <tbody>\n",
       "    <tr>\n",
       "      <th>0</th>\n",
       "      <td>Cake</td>\n",
       "      <td>April</td>\n",
       "      <td>855.0</td>\n",
       "      <td>283</td>\n",
       "    </tr>\n",
       "    <tr>\n",
       "      <th>1</th>\n",
       "      <td>Cake</td>\n",
       "      <td>August</td>\n",
       "      <td>855.0</td>\n",
       "      <td>285</td>\n",
       "    </tr>\n",
       "    <tr>\n",
       "      <th>2</th>\n",
       "      <td>Cake</td>\n",
       "      <td>December</td>\n",
       "      <td>795.0</td>\n",
       "      <td>269</td>\n",
       "    </tr>\n",
       "    <tr>\n",
       "      <th>3</th>\n",
       "      <td>Cake</td>\n",
       "      <td>February</td>\n",
       "      <td>726.0</td>\n",
       "      <td>242</td>\n",
       "    </tr>\n",
       "    <tr>\n",
       "      <th>4</th>\n",
       "      <td>Cake</td>\n",
       "      <td>January</td>\n",
       "      <td>882.0</td>\n",
       "      <td>298</td>\n",
       "    </tr>\n",
       "    <tr>\n",
       "      <th>...</th>\n",
       "      <td>...</td>\n",
       "      <td>...</td>\n",
       "      <td>...</td>\n",
       "      <td>...</td>\n",
       "    </tr>\n",
       "    <tr>\n",
       "      <th>91</th>\n",
       "      <td>Tea</td>\n",
       "      <td>March</td>\n",
       "      <td>400.5</td>\n",
       "      <td>265</td>\n",
       "    </tr>\n",
       "    <tr>\n",
       "      <th>92</th>\n",
       "      <td>Tea</td>\n",
       "      <td>May</td>\n",
       "      <td>366.0</td>\n",
       "      <td>245</td>\n",
       "    </tr>\n",
       "    <tr>\n",
       "      <th>93</th>\n",
       "      <td>Tea</td>\n",
       "      <td>November</td>\n",
       "      <td>325.5</td>\n",
       "      <td>220</td>\n",
       "    </tr>\n",
       "    <tr>\n",
       "      <th>94</th>\n",
       "      <td>Tea</td>\n",
       "      <td>October</td>\n",
       "      <td>490.5</td>\n",
       "      <td>324</td>\n",
       "    </tr>\n",
       "    <tr>\n",
       "      <th>95</th>\n",
       "      <td>Tea</td>\n",
       "      <td>September</td>\n",
       "      <td>429.0</td>\n",
       "      <td>288</td>\n",
       "    </tr>\n",
       "  </tbody>\n",
       "</table>\n",
       "<p>96 rows × 4 columns</p>\n",
       "</div>"
      ],
      "text/plain": [
       "    Item Transaction Month Name  Total Spent  Quantity\n",
       "0   Cake                  April        855.0       283\n",
       "1   Cake                 August        855.0       285\n",
       "2   Cake               December        795.0       269\n",
       "3   Cake               February        726.0       242\n",
       "4   Cake                January        882.0       298\n",
       "..   ...                    ...          ...       ...\n",
       "91   Tea                  March        400.5       265\n",
       "92   Tea                    May        366.0       245\n",
       "93   Tea               November        325.5       220\n",
       "94   Tea                October        490.5       324\n",
       "95   Tea              September        429.0       288\n",
       "\n",
       "[96 rows x 4 columns]"
      ]
     },
     "execution_count": 62,
     "metadata": {},
     "output_type": "execute_result"
    }
   ],
   "source": [
    "VentasPorMes"
   ]
  },
  {
   "cell_type": "code",
   "execution_count": null,
   "id": "a8c716a0-a364-4d99-955e-78ca5732cba7",
   "metadata": {},
   "outputs": [
    {
     "name": "stderr",
     "output_type": "stream",
     "text": [
      "C:\\Users\\Lenovo\\AppData\\Local\\Temp\\ipykernel_14504\\2559046052.py:25: FutureWarning: The default value of observed=False is deprecated and will change to observed=True in a future version of pandas. Specify observed=False to silence this warning and retain the current behavior\n",
      "  pivot = VentasPorMes.pivot_table(\n"
     ]
    }
   ],
   "source": [
    "orden_meses = [\"January\", \"February\", \"March\", \"April\", \"May\", \"June\", \n",
    "               \"July\", \"August\", \"September\", \"October\", \"November\", \"December\"]\n",
    "\n",
    "VentasPorMes[\"Transaction Month Name\"] = pd.Categorical(\n",
    "    VentasPorMes[\"Transaction Month Name\"],\n",
    "    categories=orden_meses,\n",
    "    ordered=True\n",
    ")\n",
    "VentasPorMes = VentasPorMes.sort_values(\"Transaction Month Name\")\n",
    "fig, axes = plt.subplots(1, 2, figsize=(20, 6))\n",
    "\n",
    "sns.barplot(\n",
    "    data=VentasPorMes,\n",
    "    x=\"Transaction Month Name\",\n",
    "    y=\"Total Spent\",\n",
    "    hue=\"Item\",\n",
    "    palette=\"tab20_r\",\n",
    "    ax=axes[0]\n",
    ")\n",
    "axes[0].set_title(\"Rentabilidad por Producto y Mes\")\n",
    "axes[0].set_ylabel(\"Total Spent (€)\")\n",
    "axes[0].set_xlabel(\"Mes\")\n",
    "axes[0].tick_params(axis='x', rotation=5)\n",
    "\n",
    "pivot = VentasPorMes.pivot_table(\n",
    "    index=\"Item\",\n",
    "    columns=\"Transaction Month Name\",\n",
    "    values=\"Total Spent\"\n",
    ")\n",
    "\n",
    "pivot = pivot[orden_meses]\n",
    "sns.heatmap(pivot, annot=True, fmt=\".0f\", cmap=\"viridis\", ax=axes[1])\n",
    "axes[1].set_title(\"Mapa de Rentabilidad por Producto y Mes\")\n",
    "axes[1].set_ylabel(\"Producto\")\n",
    "axes[1].set_xlabel(\"Mes\")\n",
    "\n",
    "plt.tight_layout()\n",
    "plt.show()\n",
    "plt.tight_layout()\n",
    "plt.savefig(\"grafico_rentabilidad.png\", dpi=300)  # Guardado en alta calidad\n",
    "plt.show()"
   ]
  },
  {
   "cell_type": "code",
   "execution_count": null,
   "id": "0d470d1a-a772-48ad-9335-5f82f253a5f4",
   "metadata": {},
   "outputs": [],
   "source": [
    "Total_mes = CafeSales.groupby(\"Transaction Month Name\").agg({\n",
    "    \"Total Spent\" : \"sum\"\n",
    "}).reset_index()"
   ]
  },
  {
   "cell_type": "code",
   "execution_count": null,
   "id": "26582921-ff03-42b7-adb7-343cecf69bf7",
   "metadata": {},
   "outputs": [],
   "source": [
    "Total_mes"
   ]
  },
  {
   "cell_type": "code",
   "execution_count": null,
   "id": "ce322758-1f2e-47d0-94db-fc57f3fde081",
   "metadata": {},
   "outputs": [],
   "source": [
    "\n",
    "Total_mes[\"Transaction Month Name\"] = pd.Categorical(\n",
    "    Total_mes[\"Transaction Month Name\"],\n",
    "    categories=orden_meses,\n",
    "    ordered=True\n",
    ")\n",
    "\n",
    "Total_mes = Total_mes.sort_values(\"Transaction Month Name\")\n",
    "\n",
    "plt.figure(figsize=(12, 6))\n",
    "sns.barplot(\n",
    "    data=Total_mes,\n",
    "    x=\"Transaction Month Name\",\n",
    "    y=\"Total Spent\",\n",
    "    palette=\"coolwarm\"\n",
    ")\n",
    "plt.title(\"Facturación Total por Mes\")\n",
    "plt.xlabel(\"Mes\")\n",
    "plt.ylabel(\"Total Facturado (€)\")\n",
    "plt.ylim(5000)\n",
    "plt.xticks(rotation=45)\n",
    "plt.tight_layout()\n",
    "plt.show()\n"
   ]
  },
  {
   "cell_type": "markdown",
   "id": "c261178a-e0ff-4372-a645-d12ef402060b",
   "metadata": {},
   "source": [
    "ç"
   ]
  },
  {
   "cell_type": "markdown",
   "id": "d415808a-1eeb-4f92-9849-2af48546b766",
   "metadata": {},
   "source": [
    "### Ventas"
   ]
  },
  {
   "cell_type": "markdown",
   "id": "92d0d892-4ce9-4aec-ae10-71bfbf46f8df",
   "metadata": {},
   "source": [
    "¿Cuál es el ticket promedio por operación?"
   ]
  },
  {
   "cell_type": "code",
   "execution_count": null,
   "id": "dfe95de3-54b2-4982-a19a-a250d639f52b",
   "metadata": {},
   "outputs": [],
   "source": [
    "CafeSales"
   ]
  },
  {
   "cell_type": "code",
   "execution_count": null,
   "id": "d8e90540-8e7d-4bcb-83b8-930cec59913c",
   "metadata": {},
   "outputs": [],
   "source": [
    "tiketPromedioXdia = CafeSales.groupby(\"DíaSemana\").agg({\n",
    "    \"Total Spent\": \"mean\"\n",
    "}).reset_index()\n",
    "\n",
    "tiketPromedio.columns = [\"DíaSemana\", \"Promedio Spent\"]"
   ]
  },
  {
   "cell_type": "code",
   "execution_count": null,
   "id": "f35c1b4f-ea3d-4571-a942-ef335848865b",
   "metadata": {},
   "outputs": [],
   "source": [
    "orden_dias = [\"Monday\", \"Tuesday\", \"Wednesday\", \"Thursday\", \"Friday\", \"Saturday\", \"Sunday\"]\n",
    "tiketPromedio[\"DíaSemana\"] = pd.Categorical(tiketPromedio[\"DíaSemana\"], categories=orden_dias, ordered=True)\n",
    "tiketPromedio = tiketPromedio.sort_values(\"DíaSemana\")\n",
    "\n",
    "plt.figure(figsize=(10, 5))\n",
    "sns.barplot(\n",
    "    data=tiketPromedio,\n",
    "    x=\"DíaSemana\",\n",
    "    y=\"Promedio Spent\",\n",
    "    palette=\"tab20_r\"\n",
    ")\n",
    "plt.title(\"Ticket Promedio por Día de la Semana\")\n",
    "plt.ylabel(\"Ticket Promedio (€)\")\n",
    "plt.xlabel(\"Día de la Semana\")\n",
    "plt.ylim(8)\n",
    "plt.xticks(rotation=45)\n",
    "plt.tight_layout()\n",
    "plt.show()\n",
    "\n",
    "TiketPromedio = CafeSales[\"Total Spent\"].mean()\n",
    "print(f\"El Tiket promedio es de: €{TiketPromedio:2f}\")"
   ]
  },
  {
   "cell_type": "markdown",
   "id": "11b0c44d-fc75-454c-9720-ef016f6d69aa",
   "metadata": {},
   "source": [
    "El tiket promedio es de €8.93 sieno el con mayor tiket promedio el marte con un 9.2 y el menor e miercoles con una caida 8.6"
   ]
  },
  {
   "cell_type": "code",
   "execution_count": null,
   "id": "d176061e-9af6-41a4-8501-b0b83da01806",
   "metadata": {},
   "outputs": [],
   "source": [
    "VentasPorDia1 = CafeSales.groupby([\"Item\", \"DíaSemana\"]).agg({\n",
    "    \"Total Spent\": \"sum\",\n",
    "    \"Quantity\": \"sum\"\n",
    "}).reset_index()\n",
    "\n",
    "orden_dias = [\"Monday\", \"Tuesday\", \"Wednesday\", \"Thursday\", \"Friday\", \"Saturday\", \"Sunday\"]\n",
    "\n",
    "VentasPorDia1[\"DíaSemana\"] = pd.Categorical(\n",
    "    VentasPorDia1[\"DíaSemana\"],\n",
    "    categories=orden_dias,\n",
    "    ordered=True\n",
    ")\n",
    "VentasPorDia1 = VentasPorDia1.sort_values(\"DíaSemana\")\n",
    "\n",
    "plt.figure(figsize=(16, 6))\n",
    "sns.barplot(\n",
    "    data=VentasPorDia1,\n",
    "    x=\"DíaSemana\",\n",
    "    y=\"Total Spent\",\n",
    "    hue=\"Item\",\n",
    "    palette=\"tab20_r\"\n",
    ")\n",
    "\n",
    "plt.title(\"Rentabilidad por Producto y Día de la Semana\")\n",
    "plt.ylabel(\"Total Spent (€)\")\n",
    "plt.xlabel(\"Día de la Semana\")\n",
    "plt.xticks(rotation=45)\n",
    "plt.tight_layout()\n",
    "plt.show()"
   ]
  },
  {
   "cell_type": "code",
   "execution_count": null,
   "id": "b4d5aa44-013f-4e36-8c2b-0325e96f1b43",
   "metadata": {},
   "outputs": [],
   "source": [
    "rden_dias = [\"Monday\", \"Tuesday\", \"Wednesday\", \"Thursday\", \"Friday\", \"Saturday\", \"Sunday\"]\n",
    "\n",
    "VentasPorDia[\"DíaSemana\"] = pd.Categorical(VentasPorDia[\"DíaSemana\"], categories=orden_dias, ordered=True)\n",
    "VentasPorDia = VentasPorDia.sort_values(\"DíaSemana\")\n",
    "\n",
    "tiketPromedio[\"DíaSemana\"] = pd.Categorical(tiketPromedio[\"DíaSemana\"], categories=orden_dias, ordered=True)\n",
    "tiketPromedio = tiketPromedio.sort_values(\"DíaSemana\")\n",
    "\n",
    "TiketPromedioGeneral = CafeSales[\"Total Spent\"].mean()\n",
    "\n",
    "fig, axes = plt.subplots(1, 2, figsize=(20, 6))\n",
    "\n",
    "sns.barplot(\n",
    "    data=VentasPorDia,\n",
    "    x=\"DíaSemana\",\n",
    "    y=\"Total Spent\",\n",
    "    palette=\"tab20_r\",\n",
    "    ax=axes[0]\n",
    ")\n",
    "axes[0].set_title(\"Total de ventas por día\")\n",
    "axes[0].set_ylabel(\"Total Spent (€)\")\n",
    "axes[0].set_xlabel(\"Día de la Semana\")\n",
    "axes[0].set_ylim(12000)\n",
    "axes[0].tick_params(axis='x', rotation=45)\n",
    "sns.barplot(\n",
    "    data=tiketPromedio,\n",
    "    x=\"DíaSemana\",\n",
    "    y=\"Promedio Spent\",\n",
    "    palette=\"tab20_r\",\n",
    "    ax=axes[1]\n",
    ")\n",
    "axes[1].axhline(TiketPromedioGeneral, color='red', linestyle='--', label=f'Ticket Promedio General (€{TiketPromedioGeneral:.2f})')\n",
    "axes[1].set_title(\"Ticket Promedio por Día de la Semana\")\n",
    "axes[1].set_ylabel(\"Ticket Promedio (€)\")\n",
    "axes[1].set_xlabel(\"Día de la Semana\")\n",
    "axes[1].set_ylim(8)\n",
    "axes[1].tick_params(axis='x', rotation=45)\n",
    "axes[1].legend()\n",
    "\n",
    "plt.tight_layout()\n",
    "plt.show()"
   ]
  },
  {
   "cell_type": "markdown",
   "id": "604dc949-f377-4ece-804a-7dec8b9e6353",
   "metadata": {},
   "source": [
    "Ya hemos poido ver que el tiket promedio general es de €8.9 por transansaccion, se puede apreciar una tendendia que empieza el jueves con buenas ventas y que baja un poco el fin de semana apartir del viernes pero se mantene estable hasta el lunes, tenieno una gran caidea el jueves y sobretodo el miercoles por lo que vems que la clientela se dispara el fin de semana, porque aun que los lunes haya unas ventas parecidas al fin de semana el tiket romedio baja a un 8.8. puede deberse a un tema de la edad del publico. en los martes se puede apreciar una subida de la rentabilidad seguramente por el aumento de ventas en \"Cakes\" y \"sandwich\" lo que tambien se ve reflejado el miercoles con una gran caida de los mismos productos, de la misma forma los fines de semana ven una subida que se mantiene estable que es lo que produce esta tendendia de ventas."
   ]
  },
  {
   "cell_type": "code",
   "execution_count": null,
   "id": "bb555ce0-54c9-45eb-b12c-1b52047a6101",
   "metadata": {},
   "outputs": [],
   "source": [
    "tiketPromedioXdia"
   ]
  },
  {
   "cell_type": "markdown",
   "id": "20af307c-74b0-47a2-9dd6-87fa4cbd3d14",
   "metadata": {},
   "source": [
    "## Patrones Generales    "
   ]
  },
  {
   "cell_type": "markdown",
   "id": "6c0ff5af-6935-4ebb-b26f-cf58359d34c6",
   "metadata": {},
   "source": [
    "¿Qué categoría de productos predomina en las ventas?"
   ]
  },
  {
   "cell_type": "code",
   "execution_count": null,
   "id": "3518d99f-d2b4-4182-aa4a-49b673cd74b4",
   "metadata": {},
   "outputs": [],
   "source": [
    "CafeSales[\"Item\"].unique()"
   ]
  },
  {
   "cell_type": "code",
   "execution_count": null,
   "id": "853c25dd-ca33-4bfe-bc8f-646a8852d7e7",
   "metadata": {},
   "outputs": [],
   "source": [
    "def categorias(producto):\n",
    "    if producto in [\"Cake\", \"Cookie\"]:\n",
    "        return \"Dulces\"\n",
    "    elif producto in [\"Coffe\", \"Juice\", \"Tea\", \"Smoothie\"]:\n",
    "        return \"Bebidas\"\n",
    "    else:\n",
    "        return \"Comida\""
   ]
  },
  {
   "cell_type": "code",
   "execution_count": null,
   "id": "0390d18e-805b-4f9c-a514-be90df611d47",
   "metadata": {},
   "outputs": [],
   "source": [
    "CafeSales[\"Categoria\"] = CafeSales[\"Item\"].apply(categorias)"
   ]
  },
  {
   "cell_type": "code",
   "execution_count": null,
   "id": "4178d704-4cc0-4009-971f-2b22413f02c8",
   "metadata": {},
   "outputs": [],
   "source": [
    "CafeCategorias = CafeSales.groupby(\"Categoria\").agg({\n",
    "    \"Total Spent\" : [\"sum\", \"mean\"] \n",
    "}).reset_index()"
   ]
  },
  {
   "cell_type": "code",
   "execution_count": null,
   "id": "fe217a4a-24c7-42d4-b512-30e6c2f36473",
   "metadata": {},
   "outputs": [],
   "source": [
    "CafeCategorias.columns = [\"Categoría\", \"Total Ganancia\", \"Promedio Ganancia\"]\n",
    "\n",
    "fig, axes = plt.subplots(1, 2, figsize=(16, 6))\n",
    "sns.barplot(\n",
    "    data=CafeCategorias,\n",
    "    x=\"Categoría\",\n",
    "    y=\"Total Ganancia\",\n",
    "    palette=\"Dark2\",\n",
    "    ax=axes[0]\n",
    ")\n",
    "\n",
    "axes[0].set_title(\"Total de Ganancia por Categoría\")\n",
    "axes[0].set_ylabel(\"Total (€)\")\n",
    "axes[0].set_xlabel(\"Categoría\")\n",
    "axes[0].set_ylim(7000) \n",
    "sns.barplot(\n",
    "    data=CafeCategorias,\n",
    "    x=\"Categoría\",\n",
    "    y=\"Promedio Ganancia\",\n",
    "    palette=\"Dark2\",\n",
    "    ax=axes[1]\n",
    ")\n",
    "axes[1].set_title(\"Ganancia Promedio por Categoría\")\n",
    "axes[1].set_ylabel(\"Promedio (€)\")\n",
    "axes[1].set_xlabel(\"Categoría\")\n",
    "plt.ylim(5)\n",
    "plt.tight_layout()\n",
    "plt.show()"
   ]
  },
  {
   "cell_type": "markdown",
   "id": "7e119910-c6a1-4e62-ac7e-0060426912e5",
   "metadata": {},
   "source": [
    "Podemos ver claramente que los productos que nos suponen menores ganancias son los dulces al haber menos variedad y tambien a la mala ventas de las galletas, los productos que mas rentabilidad nos ofrecen son las bebidas y la comida por igual aun que podemos ver que el promedio de bebdas es menor la gananca total es casi igual debido al volumen por lo que abria que hacer un ajuste de precios para aumentar la ganancia debido a la alta demanda y tambian habria que hacer un ajuste de los precios de la comida para aumentar la demanda y asi la ganancia tambien se pueden agregar mas productos en dulces y prescindir de las galletas ya qu ofrecen muy poca rentabilidad"
   ]
  },
  {
   "cell_type": "code",
   "execution_count": null,
   "id": "4f17eb1a-50b9-43f3-be90-0c1a570442bb",
   "metadata": {},
   "outputs": [],
   "source": [
    "CafeCategorias"
   ]
  },
  {
   "cell_type": "markdown",
   "id": "c5616a8d-f2f9-4fea-bec2-af4de4549a29",
   "metadata": {},
   "source": [
    "¿Qué productos combinan un volumen alto con un buen precio promedio?\n"
   ]
  },
  {
   "cell_type": "code",
   "execution_count": null,
   "id": "a3bae70f-41b8-41b4-8b2d-ca8edd40b250",
   "metadata": {},
   "outputs": [],
   "source": [
    "ProductoResumen = CafeSales.groupby(\"Item\").agg({\n",
    "    \"Quantity\": \"sum\",\n",
    "    \"Total Spent\": \"sum\"\n",
    "}).reset_index()\n",
    "\n",
    "ProductoResumen[\"Precio Promedio\"] = ProductoResumen[\"Total Spent\"] / ProductoResumen[\"Quantity\"]"
   ]
  },
  {
   "cell_type": "code",
   "execution_count": null,
   "id": "4c8773c6-a3f7-42cf-97a4-53070ec91c28",
   "metadata": {},
   "outputs": [],
   "source": [
    "import matplotlib.pyplot as plt\n",
    "import seaborn as sns\n",
    "\n",
    "plt.figure(figsize=(12, 6))\n",
    "sns.scatterplot(\n",
    "    data=ProductoResumen,\n",
    "    x=\"Quantity\",\n",
    "    y=\"Precio Promedio\",\n",
    "    hue=\"Item\",\n",
    "    size=\"Total Spent\",\n",
    "    palette=\"tab10\",\n",
    "    sizes=(40, 400),\n",
    ")\n",
    "\n",
    "plt.title(\"Relación entre Volumen de Venta y Precio Promedio por Producto\")\n",
    "plt.xlabel(\"Cantidad Vendida (Volumen)\")\n",
    "plt.ylabel(\"Precio Promedio (€)\")\n",
    "plt.legend(loc='center left', bbox_to_anchor=(1, 0.5))\n",
    "plt.grid(True)\n",
    "plt.tight_layout()\n",
    "plt.show()"
   ]
  },
  {
   "cell_type": "markdown",
   "id": "d8689728-e2f7-47d0-b768-cf77760f4cf0",
   "metadata": {},
   "source": [
    "Podemos ver que realemente no hay mucha diferencia frente al volumen de ventas comparado con el el precio de venta el volumen se mantiene en el mismo rango pero se ve un gran aumento de ganancia en los productos mas caros como\n",
    "la ensalada pero podemos ver un caso atipico que son los zumos que tienen una gran ganancia con un precio de 3 debio a su gran volumen de ventas."
   ]
  },
  {
   "cell_type": "code",
   "execution_count": null,
   "id": "784395b3-ebb2-4c47-ae06-89561e581f0e",
   "metadata": {},
   "outputs": [],
   "source": [
    "ProductoResumen"
   ]
  },
  {
   "cell_type": "code",
   "execution_count": null,
   "id": "c4849d3e-3486-4b12-84a5-bac92d32584f",
   "metadata": {},
   "outputs": [],
   "source": [
    "CafeSales"
   ]
  },
  {
   "cell_type": "code",
   "execution_count": null,
   "id": "630d41bc-2730-45d1-93c1-1db17a881f8a",
   "metadata": {},
   "outputs": [],
   "source": [
    "CafeSales =CafeSales.drop(\n",
    "    labels = [\"Transaction Month\"],\n",
    "    axis = \"columns\" \n",
    ")"
   ]
  },
  {
   "cell_type": "code",
   "execution_count": null,
   "id": "346fbe13-b4c9-411b-9020-934bcd373977",
   "metadata": {},
   "outputs": [],
   "source": [
    "CafeSales"
   ]
  },
  {
   "cell_type": "code",
   "execution_count": null,
   "id": "0ceae086-d51a-4b6b-a236-449ff0d7d270",
   "metadata": {},
   "outputs": [],
   "source": [
    "CafeSales.to_csv(\"CafeSales_PowerBI.csv\", index=False, encoding=\"utf-8\")"
   ]
  },
  {
   "cell_type": "code",
   "execution_count": null,
   "id": "f6594d0c-7867-4687-8435-d61626d1df2f",
   "metadata": {},
   "outputs": [],
   "source": []
  }
 ],
 "metadata": {
  "kernelspec": {
   "display_name": "Python [conda env:base] *",
   "language": "python",
   "name": "conda-base-py"
  },
  "language_info": {
   "codemirror_mode": {
    "name": "ipython",
    "version": 3
   },
   "file_extension": ".py",
   "mimetype": "text/x-python",
   "name": "python",
   "nbconvert_exporter": "python",
   "pygments_lexer": "ipython3",
   "version": "3.12.7"
  }
 },
 "nbformat": 4,
 "nbformat_minor": 5
}
